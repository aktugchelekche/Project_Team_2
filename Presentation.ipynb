{
 "cells": [
  {
   "cell_type": "markdown",
   "metadata": {},
   "source": [
    "# Top Hits Spotify from 2000-2019\n",
    "\n",
    "Music industry is one of the biggest industry all over the world and has never stopped growing so far. The global value of the music industry is estimated to be over  $ 63 billion,making it one of the world’s most impactful industries.\n",
    "\n"
   ]
  },
  {
   "cell_type": "markdown",
   "metadata": {},
   "source": [
    "### What Makes A Song Popular ?\n",
    "\n",
    "\n",
    "\n",
    "With our Machine Learning Model, we want predict how popular a song would be with given features such as its \"danceability\" , \"key\" and \"tempo\" etc."
   ]
  },
  {
   "cell_type": "markdown",
   "metadata": {},
   "source": [
    "### Our Team : \n",
    "\n",
    "* <strong>Julian Flores -Triangle Role</strong>  :The member in the circle role will create a mockup of a database with a set of sample data, or even fabricated data. This will ensure the database will work seamlessly with the rest of the project.\n",
    "\n",
    "* <strong>Robby Rangel -Circle Role </strong>    :The member in the triangle role will create a mockup of a machine learning model. This can even be a diagram that explains how it will work concurrently with the rest of the project step\n",
    "\n",
    "* <strong>Aktug Cilekci - Square Role </strong>  : The team member in the square role will be responsible for the repository.\n",
    "\n"
   ]
  },
  {
   "cell_type": "markdown",
   "metadata": {},
   "source": [
    "#### Description of Our source of Data :\n",
    "\n",
    "The dataset is composed of 2000 rows and 18 columns. So, a priori we can say that this dataset contains the Top 2000 songs from the period analyzed.\n",
    "In order to increase the depth of understanding of the data that we have, we must understand the content of each column present in the dataset. The description of the columns are as follows :\n",
    "\n",
    "* <strong>artist</strong>: Name of the Artist.\n",
    "* <strong>song</strong>: Name of the Track.\n",
    "* <strong>duration_ms</strong>: Duration of the track in milliseconds.\n",
    "* <strong>explicit</strong>: The lyrics or content of a song or a music video contain one or more of the criteria which could be considered offensive or unsuitable for children.\n",
    "* <strong>year</strong>: Release Year of the track.\n",
    "* <strong>popularity</strong>: The higher the value the more popular the song is.\n",
    "* <strong>danceability</strong>: Danceability describes how suitable a track is for dancing based on a combination of musical elements including tempo, rhythm stability, beat strength, and overall regularity. A value of 0.0 is least danceable and 1.0 is most danceable.\n",
    "* <strong>energy</strong>: Energy is a measure from 0.0 to 1.0 and represents a perceptual measure of intensity and activity.\n",
    "* <strong>key</strong>: The key the track is in. Integers map to pitches using standard Pitch Class notation. E.g. 0 = C, 1 = C♯/D♭, 2 = D, and so on. If no key was detected, the value is -1.\n",
    "* <strong>loudness</strong>: The overall loudness of a track in decibels (dB). Loudness values are averaged across the entire track and are useful for comparing relative loudness of tracks. Loudness is the quality of a sound that is the primary psychological correlate of physical strength (amplitude). Values typically range between -60 and 0 db.\n",
    "* <strong>mode</strong>: Mode indicates the modality (major or minor) of a track, the type of scale from which its melodic content is derived. Major is represented by 1 and minor is 0.\n",
    "* <strong>speechiness</strong>: Speechiness detects the presence of spoken words in a track. The more exclusively speech-like the recording (e.g. talk show, audio book, poetry), the closer to 1.0 the attribute value. Values above 0.66 describe tracks that are probably made entirely of spoken words. Values between 0.33 and 0.66 describe tracks that may contain both music and speech, either in sections or layered, including such cases as rap music. Values below 0.33 most likely represent music and other non-speech-like tracks.\n",
    "* <strong>acousticness</strong>: A confidence measure from 0.0 to 1.0 of whether the track is acoustic. 1.0 represents high confidence the track is acoustic.\n",
    "* <strong>instrumentalness</strong>: Predicts whether a track contains no vocals. \"Ooh\" and \"aah\" sounds are treated as instrumental in this context. Rap or spoken word tracks are clearly \"vocal\". The closer the instrumentalness value is to 1.0, the greater likelihood the track contains no vocal content. Values above 0.5 are intended to represent instrumental tracks, but confidence is higher as the value approaches 1.0.\n",
    "* <strong>liveness</strong>: Detects the presence of an audience in the recording. Higher liveness values represent an increased probability that the track was performed live. A value above 0.8 provides strong likelihood that the track is live.\n",
    "* <strong>valence</strong>: A measure from 0.0 to 1.0 describing the musical positiveness conveyed by a track. Tracks with high valence sound more positive (e.g. happy, cheerful, euphoric), while tracks with low valence sound more negative (e.g. sad, depressed, angry).\n",
    "* <strong>tempo</strong>: The overall estimated tempo of a track in beats per minute (BPM). In musical terminology, tempo is the speed or pace of a given piece and derives directly from the average beat duration.\n",
    "* <strong>genre</strong>: Genre of the track"
   ]
  },
  {
   "cell_type": "markdown",
   "metadata": {},
   "source": [
    "#### Resource : <a href= \"https://www.kaggle.com/datasets/paradisejoy/top-hits-spotify-from-20002019\">Top Hits Spotify from 2000-2019</a>"
   ]
  }
 ],
 "metadata": {
  "language_info": {
   "name": "python"
  },
  "orig_nbformat": 4
 },
 "nbformat": 4,
 "nbformat_minor": 2
}
